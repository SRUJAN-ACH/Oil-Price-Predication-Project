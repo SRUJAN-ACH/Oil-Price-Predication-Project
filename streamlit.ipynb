{
  "cells": [
    {
      "cell_type": "code",
      "execution_count": 1,
      "metadata": {
        "colab": {
          "base_uri": "https://localhost:8080/"
        },
        "id": "HecyQDMKEg2_",
        "outputId": "c701fd55-f245-4139-bd05-b281ada8d9d1"
      },
      "outputs": [
        {
          "output_type": "stream",
          "name": "stdout",
          "text": [
            "\u001b[2K     \u001b[90m━━━━━━━━━━━━━━━━━━━━━━━━━━━━━━━━━━━━━━━━\u001b[0m \u001b[32m8.4/8.4 MB\u001b[0m \u001b[31m10.8 MB/s\u001b[0m eta \u001b[36m0:00:00\u001b[0m\n",
            "\u001b[2K     \u001b[90m━━━━━━━━━━━━━━━━━━━━━━━━━━━━━━━━━━━━━━━━\u001b[0m \u001b[32m190.6/190.6 kB\u001b[0m \u001b[31m13.7 MB/s\u001b[0m eta \u001b[36m0:00:00\u001b[0m\n",
            "\u001b[2K     \u001b[90m━━━━━━━━━━━━━━━━━━━━━━━━━━━━━━━━━━━━━━━━\u001b[0m \u001b[32m4.8/4.8 MB\u001b[0m \u001b[31m47.2 MB/s\u001b[0m eta \u001b[36m0:00:00\u001b[0m\n",
            "\u001b[2K     \u001b[90m━━━━━━━━━━━━━━━━━━━━━━━━━━━━━━━━━━━━━━━━\u001b[0m \u001b[32m82.1/82.1 kB\u001b[0m \u001b[31m4.4 MB/s\u001b[0m eta \u001b[36m0:00:00\u001b[0m\n",
            "\u001b[2K     \u001b[90m━━━━━━━━━━━━━━━━━━━━━━━━━━━━━━━━━━━━━━━━\u001b[0m \u001b[32m62.7/62.7 kB\u001b[0m \u001b[31m6.6 MB/s\u001b[0m eta \u001b[36m0:00:00\u001b[0m\n",
            "\u001b[?25h"
          ]
        }
      ],
      "source": [
        "!pip install -q streamlit"
      ]
    },
    {
      "cell_type": "code",
      "execution_count": 2,
      "metadata": {
        "id": "SuboKUuTYKw0",
        "colab": {
          "base_uri": "https://localhost:8080/"
        },
        "outputId": "2df4e0b0-a579-4994-df46-c90cb53b6428"
      },
      "outputs": [
        {
          "output_type": "stream",
          "name": "stdout",
          "text": [
            "Writing oil_price_prediction_app.py\n"
          ]
        }
      ],
      "source": [
        "%%writefile oil_price_prediction_app.py\n",
        "import pandas as pd\n",
        "import numpy as np\n",
        "import streamlit as st\n",
        "from math import sqrt\n",
        "from statsmodels.tsa.statespace.sarimax import SARIMAX\n",
        "from sklearn.metrics import mean_squared_error\n",
        "\n",
        "# Load the data\n",
        "data = pd.read_csv(\"Crude oil.csv\")  # Replace with the actual path\n",
        "data.columns = [\"Date\", \"Price\", \"Volume\", \"Open\", \"High\", \"Low\"]\n",
        "\n",
        "# Convert the 'Date' column to datetime format\n",
        "data['Date'] = pd.to_datetime(data['Date'])\n",
        "\n",
        "# Drop unnecessary columns\n",
        "columns_to_drop = ['Volume', 'Open', 'Low', 'High']\n",
        "df = data.drop(columns=columns_to_drop)\n",
        "\n",
        "# Model Fitting\n",
        "st.title('Oil Price Prediction with ARIMA')\n",
        "\n",
        "# Sidebar with date range selector\n",
        "min_date = st.sidebar.date_input(\"Select start date\", min(df['Date']))\n",
        "max_date = st.sidebar.date_input(\"Select end date\", max(df['Date']), min_date + pd.Timedelta(days=1))\n",
        "\n",
        "# Convert min_date and max_date to datetime64[ns]\n",
        "min_date = np.datetime64(min_date)\n",
        "max_date = np.datetime64(max_date)\n",
        "\n",
        "# Split the data based on selected date range\n",
        "mask = (df['Date'] >= min_date) & (df['Date'] <= max_date)\n",
        "selected_data = df.loc[mask]\n",
        "\n",
        "# Display the DataFrame\n",
        "st.subheader(\"Selected Data\")\n",
        "st.write(selected_data)\n",
        "\n",
        "# ARIMA Model\n",
        "train_size = int(len(selected_data) * 0.8)\n",
        "train, test = selected_data[0:train_size], selected_data[train_size:]\n",
        "order = (1, 1, 0)\n",
        "seasonal_order = (1, 1, 1, 4)\n",
        "model = SARIMAX(train['Price'], order=order, seasonal_order=seasonal_order)\n",
        "model_fit = model.fit(disp=False)\n",
        "\n",
        "# Predictions\n",
        "predictions = model_fit.predict(start=test.index[0], end=test.index[-1], dynamic=False)\n",
        "rmse_Arima = sqrt(mean_squared_error(test['Price'], predictions))\n",
        "\n",
        "# Plot actual vs predicted prices\n",
        "st.subheader(\"Actual vs Predicted Prices\")\n",
        "st.line_chart(pd.DataFrame({'Actual': test['Price'], 'Predicted': predictions}))\n",
        "\n",
        "# Display RMSE\n",
        "st.subheader(f'Root Mean Squared Error (RMSE): {rmse_Arima}')\n",
        "\n",
        "# Forecast\n",
        "forecast_steps = st.slider(\"Number of Forecast Steps\", 1, 30, 7)\n",
        "forecast = model_fit.forecast(steps=forecast_steps)\n",
        "st.subheader(f\"Forecast for the next {forecast_steps} steps\")\n",
        "st.write(forecast)\n",
        "\n",
        "# Weekly, Monthly, and Yearly Graphs\n",
        "weekly_data = selected_data.resample('W-Mon', on='Date').mean()\n",
        "monthly_data = selected_data.resample('M', on='Date').mean()\n",
        "yearly_data = selected_data.resample('Y', on='Date').mean()\n",
        "\n",
        "# Plot Weekly Graph\n",
        "st.subheader(\"Weekly Prices\")\n",
        "st.line_chart(weekly_data['Price'])\n",
        "\n",
        "# Plot Monthly Graph\n",
        "st.subheader(\"Monthly Prices\")\n",
        "st.line_chart(monthly_data['Price'])\n",
        "\n",
        "# Plot Yearly Graph\n",
        "st.subheader(\"Yearly Prices\")\n",
        "st.line_chart(yearly_data['Price'])\n"
      ]
    },
    {
      "cell_type": "code",
      "execution_count": 3,
      "metadata": {
        "colab": {
          "base_uri": "https://localhost:8080/"
        },
        "id": "UR2et9xZFTAm",
        "outputId": "fc128420-690e-4160-8b0c-ef046e028e71"
      },
      "outputs": [
        {
          "output_type": "stream",
          "name": "stdout",
          "text": [
            "35.199.20.36\n"
          ]
        }
      ],
      "source": [
        "#!npm install localtunnel\n",
        "!wget -q -O - icanhazip.com"
      ]
    },
    {
      "cell_type": "code",
      "execution_count": 4,
      "metadata": {
        "id": "8pfOXkQXFac9"
      },
      "outputs": [],
      "source": [
        "!streamlit run oil_price_prediction_app.py &>/content/logs.txt &"
      ]
    },
    {
      "cell_type": "code",
      "execution_count": 5,
      "metadata": {
        "colab": {
          "base_uri": "https://localhost:8080/"
        },
        "id": "YR3KJ-zgFagn",
        "outputId": "c24e898b-2823-4ba6-9492-0d6ad264dcf5"
      },
      "outputs": [
        {
          "output_type": "stream",
          "name": "stdout",
          "text": [
            "\u001b[K\u001b[?25hnpx: installed 22 in 3.919s\n",
            "your url is: https://lemon-toes-dress.loca.lt\n",
            "^C\n"
          ]
        }
      ],
      "source": [
        "!npx localtunnel --port 8501"
      ]
    }
  ],
  "metadata": {
    "colab": {
      "provenance": []
    },
    "kernelspec": {
      "display_name": "Python 3",
      "name": "python3"
    },
    "language_info": {
      "name": "python"
    }
  },
  "nbformat": 4,
  "nbformat_minor": 0
}